{
  "nbformat": 4,
  "nbformat_minor": 0,
  "metadata": {
    "colab": {
      "provenance": [],
      "authorship_tag": "ABX9TyNql6QoEEZaupAXXwCNMNSF",
      "include_colab_link": true
    },
    "kernelspec": {
      "name": "python3",
      "display_name": "Python 3"
    },
    "language_info": {
      "name": "python"
    }
  },
  "cells": [
    {
      "cell_type": "markdown",
      "metadata": {
        "id": "view-in-github",
        "colab_type": "text"
      },
      "source": [
        "<a href=\"https://colab.research.google.com/github/manasdeshpande125/da6401_assignment2-partA/blob/main/DL_ASG2_Q1.ipynb\" target=\"_parent\"><img src=\"https://colab.research.google.com/assets/colab-badge.svg\" alt=\"Open In Colab\"/></a>"
      ]
    },
    {
      "cell_type": "markdown",
      "source": [
        "**Just a simple CNN with 5 layers and Maxpooling built with Pytorch**"
      ],
      "metadata": {
        "id": "vvafP0MRcJJE"
      }
    },
    {
      "cell_type": "code",
      "execution_count": null,
      "metadata": {
        "id": "JepTbILdXIKI"
      },
      "outputs": [],
      "source": [
        "import torch\n",
        "import torch.nn as nn\n",
        "import torch.nn.functional as F\n",
        "\n",
        "class FlexibleCNN(nn.Module):\n",
        "    def __init__(self,\n",
        "                 input_shape=(3, 224, 224),\n",
        "                 num_filters=32,      # m\n",
        "                 filter_size=3,       # k\n",
        "                 activation=nn.ReLU,\n",
        "                 dense_neurons=128,   # n\n",
        "                 num_classes=10):\n",
        "\n",
        "        super().__init__()\n",
        "        self.activation = activation()\n",
        "\n",
        "        C, H, W = input_shape\n",
        "        self.conv_blocks = nn.Sequential()\n",
        "        in_channels = C\n",
        "\n",
        "        # 5 Conv-Activation-MaxPool blocks\n",
        "        for i in range(5):\n",
        "            conv = nn.Conv2d(in_channels, num_filters, kernel_size=filter_size, padding=1)\n",
        "            self.conv_blocks.add_module(f'conv{i+1}', conv)\n",
        "            self.conv_blocks.add_module(f'activation{i+1}', activation())\n",
        "            self.conv_blocks.add_module(f'pool{i+1}', nn.MaxPool2d(kernel_size=2, stride=2))\n",
        "            in_channels = num_filters\n",
        "\n",
        "        # Calculate flattened output size\n",
        "        dummy_input = torch.zeros(1, *input_shape)\n",
        "        with torch.no_grad():\n",
        "            out = self.conv_blocks(dummy_input)\n",
        "        self.flattened_size = out.view(1, -1).shape[1]\n",
        "\n",
        "        # Dense layers\n",
        "        self.fc1 = nn.Linear(self.flattened_size, dense_neurons)\n",
        "        self.output = nn.Linear(dense_neurons, num_classes)\n",
        "\n",
        "    def forward(self, x):\n",
        "        x = self.conv_blocks(x)\n",
        "        x = torch.flatten(x, 1)\n",
        "        x = self.activation(self.fc1(x))\n",
        "        x = self.output(x)\n",
        "        return x\n"
      ]
    },
    {
      "cell_type": "markdown",
      "source": [
        "**Assuming Input Size is 224 x 224 x 3\n",
        "Assuming m=32 i.e number of filters,\n",
        "k=3 i.e filter_size\n",
        "and n=128 i.e number of neurons in flattened layer**\n",
        "\n"
      ],
      "metadata": {
        "id": "d7p7uYN9cVmF"
      }
    },
    {
      "cell_type": "code",
      "source": [
        "C, H, W = 3, 224, 224\n",
        "m = 32\n",
        "k = 3\n",
        "n = 128\n",
        "num_classes = 10\n",
        "\n",
        "def conv_parameters(C_in, C_out, K, num_blocks=5):\n",
        "    total = 0\n",
        "    print(\"Convolutional Layer Parameters:\")\n",
        "    for i in range(num_blocks):\n",
        "        params = (K * K * C_in + 1) * C_out\n",
        "        print(f\"  Conv Layer {i+1}: {params:,} parameters\")\n",
        "        total += params\n",
        "        C_in = C_out\n",
        "    return total\n",
        "\n",
        "def dense_parameters(flattened_size, dense_neurons, num_classes):\n",
        "    fc1_params = (flattened_size + 1) * dense_neurons\n",
        "    out_params = (dense_neurons + 1) * num_classes\n",
        "    print(\"\\nFully Connected Layer Parameters:\")\n",
        "    print(f\"  FC1: {fc1_params:,} parameters\")\n",
        "    print(f\"  Output: {out_params:,} parameters\")\n",
        "    return fc1_params + out_params\n",
        "\n",
        "def conv_computations(H, W, C_in, C_out, K, num_blocks=5):\n",
        "    total = 0\n",
        "    print(\"\\nConvolutional Layer Computations:\")\n",
        "    for i in range(num_blocks):\n",
        "        H, W = H // 2, W // 2  # MaxPool halves the size\n",
        "        ops = H * W * C_in * K * K * C_out\n",
        "        print(f\"  Conv Layer {i+1}: {ops:,} operations\")\n",
        "        total += ops\n",
        "        C_in = C_out\n",
        "    return total, H, W\n",
        "\n",
        "def dense_computations(flattened_size, dense_neurons, num_classes):\n",
        "    fc1_ops = flattened_size * dense_neurons\n",
        "    out_ops = dense_neurons * num_classes\n",
        "    print(\"\\nFully Connected Layer Computations:\")\n",
        "    print(f\"  FC1: {fc1_ops:,} operations\")\n",
        "    print(f\"  Output: {out_ops:,} operations\")\n",
        "    return fc1_ops + out_ops\n",
        "\n",
        "# Run computations\n",
        "conv_ops, final_H, final_W = conv_computations(224, 224, C, m, k)\n",
        "flattened = m * final_H * final_W\n",
        "dense_ops = dense_computations(flattened, n, num_classes)\n",
        "print()\n",
        "# Run parameter counts\n",
        "conv_params = conv_parameters(3, m, k)\n",
        "dense_params = dense_parameters(flattened, n, num_classes)\n",
        "\n",
        "print(\"\\nTotal Computations:\", f\"{conv_ops + dense_ops:,}\")\n",
        "print(\"Total Parameters:\", f\"{conv_params + dense_params:,}\")\n"
      ],
      "metadata": {
        "colab": {
          "base_uri": "https://localhost:8080/"
        },
        "id": "3ymqrQYlXfBW",
        "outputId": "3484d425-fbe9-4550-c40f-3ea77c13b581"
      },
      "execution_count": null,
      "outputs": [
        {
          "output_type": "stream",
          "name": "stdout",
          "text": [
            "\n",
            "Convolutional Layer Computations:\n",
            "  Conv Layer 1: 10,838,016 operations\n",
            "  Conv Layer 2: 28,901,376 operations\n",
            "  Conv Layer 3: 7,225,344 operations\n",
            "  Conv Layer 4: 1,806,336 operations\n",
            "  Conv Layer 5: 451,584 operations\n",
            "\n",
            "Fully Connected Layer Computations:\n",
            "  FC1: 200,704 operations\n",
            "  Output: 1,280 operations\n",
            "\n",
            "Convolutional Layer Parameters:\n",
            "  Conv Layer 1: 896 parameters\n",
            "  Conv Layer 2: 9,248 parameters\n",
            "  Conv Layer 3: 9,248 parameters\n",
            "  Conv Layer 4: 9,248 parameters\n",
            "  Conv Layer 5: 9,248 parameters\n",
            "\n",
            "Fully Connected Layer Parameters:\n",
            "  FC1: 200,832 parameters\n",
            "  Output: 1,290 parameters\n",
            "\n",
            "Total Computations: 49,424,640\n",
            "Total Parameters: 240,010\n"
          ]
        }
      ]
    },
    {
      "cell_type": "markdown",
      "source": [
        "**Calculations as well formula for calculations is specified**\n",
        "\n"
      ],
      "metadata": {
        "id": "-oID1aUycy6C"
      }
    },
    {
      "cell_type": "code",
      "source": [
        "C, H, W = 3, 224, 224\n",
        "m = 32\n",
        "k = 3 #filter_size\n",
        "n = 128\n",
        "num_classes = 10\n",
        "\n",
        "def conv_parameters(C_in, C_out, K, num_blocks=5):\n",
        "    total = 0\n",
        "    print(\"Convolutional Layer Parameters:\")\n",
        "    for i in range(num_blocks):\n",
        "        params = (K * K * C_in + 1) * C_out\n",
        "        print(f\"  Conv Layer {i+1}:\")\n",
        "        print(f\"    Formula: ({K}×{K}×C_in + 1) × {C_out}\")\n",
        "        # print(f\"    Where: C_in = {C_in}, C_out = {C_out}, k = {K}\")\n",
        "        print(f\"    Params:  {params:,}\")\n",
        "        total += params\n",
        "        C_in = C_out\n",
        "    return total\n",
        "\n",
        "def dense_parameters(flattened_size, dense_neurons, num_classes):\n",
        "    fc1_params = (flattened_size + 1) * dense_neurons\n",
        "    out_params = (dense_neurons + 1) * num_classes\n",
        "    print(\"\\nFully Connected Layer Parameters:\")\n",
        "    print(f\"  FC1:\")\n",
        "    print(f\"    Formula: (flattened + 1) × n\")\n",
        "    # print(f\"    Where: flattened = {flattened_size}, n = {dense_neurons}\")\n",
        "    print(f\"    Params:  {fc1_params:,}\")\n",
        "    print(f\"  Output Layer:\")\n",
        "    print(f\"    Formula: (n + 1) × num_classes\")\n",
        "    # print(f\"    Where: n = {dense_neurons}, num_classes = {num_classes}\")\n",
        "    print(f\"    Params:  {out_params:,}\")\n",
        "    return fc1_params + out_params\n",
        "\n",
        "def conv_computations(H, W, C_in, C_out, K, num_blocks=5):\n",
        "    total = 0\n",
        "    print(\"\\nConvolutional Layer Computations:\")\n",
        "    for i in range(num_blocks):\n",
        "        H, W = H // 2, W // 2  # MaxPool halves the size\n",
        "        ops = H * W * C_in * K * K * C_out\n",
        "        print(f\"  Conv Layer {i+1}:\")\n",
        "        print(f\"    Formula: (H × W × C_in × k × k × C_out)\")\n",
        "        # print(f\"    Where: H={H}, W={W}, C_in={C_in}, k={K}, C_out={C_out}\")\n",
        "        print(f\"    Ops:     {ops:,}\")\n",
        "        total += ops\n",
        "        C_in = C_out\n",
        "    return total, H, W\n",
        "\n",
        "def dense_computations(flattened_size, dense_neurons, num_classes):\n",
        "    fc1_ops = flattened_size * dense_neurons\n",
        "    out_ops = dense_neurons * num_classes\n",
        "    print(\"\\nFully Connected Layer Computations:\")\n",
        "    print(f\"  FC1:\")\n",
        "    print(f\"    Formula: flattened × n\")\n",
        "    # print(f\"    Where: flattened = {flattened_size}, n = {dense_neurons}\")\n",
        "    print(f\"    Ops:     {fc1_ops:,}\")\n",
        "    print(f\"  Output Layer:\")\n",
        "    print(f\"    Formula: n × num_classes\")\n",
        "    # print(f\"    Where: n = {dense_neurons}, num_classes = {num_classes}\")\n",
        "    print(f\"    Ops:     {out_ops:,}\")\n",
        "    return fc1_ops + out_ops\n",
        "\n",
        "# Run computations\n",
        "conv_ops, final_H, final_W = conv_computations(H, W, C, m, k)\n",
        "flattened = m * final_H * final_W\n",
        "dense_ops = dense_computations(flattened, n, num_classes)\n",
        "print()\n",
        "# Run parameter counts\n",
        "conv_params = conv_parameters(C, m, k)\n",
        "dense_params = dense_parameters(flattened, n, num_classes)\n",
        "\n",
        "print(\"\\nTotal Computations:\", f\"{conv_ops + dense_ops:,}\")\n",
        "print(\"Total Parameters:\", f\"{conv_params + dense_params:,}\")\n"
      ],
      "metadata": {
        "colab": {
          "base_uri": "https://localhost:8080/"
        },
        "id": "fe0K-C6uZB8v",
        "outputId": "ed3802d9-3564-46eb-e725-eb180a10ee45"
      },
      "execution_count": null,
      "outputs": [
        {
          "output_type": "stream",
          "name": "stdout",
          "text": [
            "\n",
            "Convolutional Layer Computations:\n",
            "  Conv Layer 1:\n",
            "    Formula: (H × W × C_in × k × k × C_out)\n",
            "    Ops:     10,838,016\n",
            "  Conv Layer 2:\n",
            "    Formula: (H × W × C_in × k × k × C_out)\n",
            "    Ops:     28,901,376\n",
            "  Conv Layer 3:\n",
            "    Formula: (H × W × C_in × k × k × C_out)\n",
            "    Ops:     7,225,344\n",
            "  Conv Layer 4:\n",
            "    Formula: (H × W × C_in × k × k × C_out)\n",
            "    Ops:     1,806,336\n",
            "  Conv Layer 5:\n",
            "    Formula: (H × W × C_in × k × k × C_out)\n",
            "    Ops:     451,584\n",
            "\n",
            "Fully Connected Layer Computations:\n",
            "  FC1:\n",
            "    Formula: flattened × n\n",
            "    Ops:     200,704\n",
            "  Output Layer:\n",
            "    Formula: n × num_classes\n",
            "    Ops:     1,280\n",
            "\n",
            "Convolutional Layer Parameters:\n",
            "  Conv Layer 1:\n",
            "    Formula: (3×3×C_in + 1) × 32\n",
            "    Params:  896\n",
            "  Conv Layer 2:\n",
            "    Formula: (3×3×C_in + 1) × 32\n",
            "    Params:  9,248\n",
            "  Conv Layer 3:\n",
            "    Formula: (3×3×C_in + 1) × 32\n",
            "    Params:  9,248\n",
            "  Conv Layer 4:\n",
            "    Formula: (3×3×C_in + 1) × 32\n",
            "    Params:  9,248\n",
            "  Conv Layer 5:\n",
            "    Formula: (3×3×C_in + 1) × 32\n",
            "    Params:  9,248\n",
            "\n",
            "Fully Connected Layer Parameters:\n",
            "  FC1:\n",
            "    Formula: (flattened + 1) × n\n",
            "    Params:  200,832\n",
            "  Output Layer:\n",
            "    Formula: (n + 1) × num_classes\n",
            "    Params:  1,290\n",
            "\n",
            "Total Computations: 49,424,640\n",
            "Total Parameters: 240,010\n"
          ]
        }
      ]
    },
    {
      "cell_type": "code",
      "source": [],
      "metadata": {
        "id": "Uj8LeGj3ZQue"
      },
      "execution_count": null,
      "outputs": []
    }
  ]
}